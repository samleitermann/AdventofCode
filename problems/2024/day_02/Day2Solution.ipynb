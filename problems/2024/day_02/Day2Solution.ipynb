{
 "cells": [
  {
   "cell_type": "code",
   "id": "initial_id",
   "metadata": {
    "collapsed": true,
    "ExecuteTime": {
     "end_time": "2024-12-03T03:22:21.580658Z",
     "start_time": "2024-12-03T03:22:21.575239Z"
    }
   },
   "source": [
    "def get_data(file):\n",
    "    data=[]\n",
    "\n",
    "\n",
    "    #open the file and strip out trailing whitespace\n",
    "\n",
    "    with open(file, 'r') as f:\n",
    "        for line in f:\n",
    "            report = list(map(int, line.strip().split()))\n",
    "            data.append(report)\n",
    "\n",
    "    return data"
   ],
   "outputs": [],
   "execution_count": 22
  },
  {
   "metadata": {},
   "cell_type": "markdown",
   "source": [
    "<article class=\"day-desc\"><h2>--- Day 2: Red-Nosed Reports ---</h2><p>Fortunately, the first location The Historians want to search isn't a long walk from the Chief Historian's office.</p>\n",
    "<p>While the <a href=\"/2015/day/19\">Red-Nosed Reindeer nuclear fusion/fission plant</a> appears to contain no sign of the Chief Historian, the engineers there run up to you as soon as they see you. Apparently, they <em>still</em> talk about the time Rudolph was saved through molecular synthesis from a single electron.</p>\n",
    "<p>They're quick to add that - since you're already here - they'd really appreciate your help analyzing some unusual data from the Red-Nosed reactor. You turn to check if The Historians are waiting for you, but they seem to have already divided into groups that are currently searching every corner of the facility. You offer to help with the unusual data.</p>\n",
    "<p>The unusual data (your puzzle input) consists of many <em>reports</em>, one report per line. Each report is a list of numbers called <em>levels</em> that are separated by spaces. For example:</p>\n",
    "<pre><code>7 6 4 2 1\n",
    "1 2 7 8 9\n",
    "9 7 6 2 1\n",
    "1 3 2 4 5\n",
    "8 6 4 4 1\n",
    "1 3 6 7 9\n",
    "</code></pre>\n",
    "<p>This example data contains six reports each containing five levels.</p>\n",
    "<p>The engineers are trying to figure out which reports are <em>safe</em>. The Red-Nosed reactor safety systems can only tolerate levels that are either gradually increasing or gradually decreasing. So, a report only counts as safe if both of the following are true:</p>\n",
    "<ul>\n",
    "<li>The levels are either <em>all increasing</em> or <em>all decreasing</em>.</li>\n",
    "<li>Any two adjacent levels differ by <em>at least one</em> and <em>at most three</em>.</li>\n",
    "</ul>\n",
    "<p>In the example above, the reports can be found safe or unsafe by checking those rules:</p>\n",
    "<ul>\n",
    "<li><code>7 6 4 2 1</code>: <em>Safe</em> because the levels are all decreasing by 1 or 2.</li>\n",
    "<li><code>1 2 7 8 9</code>: <em>Unsafe</em> because <code>2 7</code> is an increase of 5.</li>\n",
    "<li><code>9 7 6 2 1</code>: <em>Unsafe</em> because <code>6 2</code> is a decrease of 4.</li>\n",
    "<li><code>1 3 2 4 5</code>: <em>Unsafe</em> because <code>1 3</code> is increasing but <code>3 2</code> is decreasing.</li>\n",
    "<li><code>8 6 4 4 1</code>: <em>Unsafe</em> because <code>4 4</code> is neither an increase or a decrease.</li>\n",
    "<li><code>1 3 6 7 9</code>: <em>Safe</em> because the levels are all increasing by 1, 2, or 3.</li>\n",
    "</ul>\n",
    "<p>So, in this example, <code><em>2</em></code> reports are <em>safe</em>.</p>\n",
    "<p>Analyze the unusual data from the engineers. <em>How many reports are safe?</em></p>\n",
    "</article>\n"
   ],
   "id": "ec13e88a2a96339"
  },
  {
   "metadata": {
    "ExecuteTime": {
     "end_time": "2024-12-03T03:22:23.721443Z",
     "start_time": "2024-12-03T03:22:23.715220Z"
    }
   },
   "cell_type": "code",
   "source": [
    "#define a function that checks if a given set of reports is safe.\n",
    "def is_safe(report):\n",
    "\n",
    "    diffs = []\n",
    "    i = 1\n",
    "    #iterate through the report and create an array of the differences between each element.\n",
    "    while i < len(report):\n",
    "        diffs.append(report[i]-report[i-1])\n",
    "        i+=1\n",
    "\n",
    "    #create two booleans that check safety conditions\n",
    "    difference = all(1 <= abs(diff) <= 3 for diff in diffs)\n",
    "    inc_dec = all(diff < 0 for diff in diffs) or all(diff > 0 for diff in diffs)\n",
    "\n",
    "    #use and operator to report whether safety conditions have been satisfied or not.\n",
    "    return difference and inc_dec\n",
    "\n"
   ],
   "id": "2633a9612815f4a7",
   "outputs": [],
   "execution_count": 23
  },
  {
   "metadata": {
    "ExecuteTime": {
     "end_time": "2024-12-03T03:22:25.153082Z",
     "start_time": "2024-12-03T03:22:25.141759Z"
    }
   },
   "cell_type": "code",
   "source": [
    "def part_one(data):\n",
    "    #initialize dictionary and level counter\n",
    "    safe = {}\n",
    "    report_number = 1\n",
    "\n",
    "    #iterate through each report, checking if they are safe and marking a 1 if safe and a 0 if not.\n",
    "    for report in data:\n",
    "\n",
    "\n",
    "        if is_safe(report) == True:\n",
    "            safe[report_number] = 1\n",
    "        else:\n",
    "            safe[report_number] = 0\n",
    "\n",
    "        report_number += 1\n",
    "\n",
    "    #return sum of values, which will add 1 each time a safe report is found.\n",
    "    return sum(safe.values())\n",
    "\n",
    "print(part_one(get_data('Day2Input.txt')))\n",
    "\n",
    "\n",
    "\n",
    "\n"
   ],
   "id": "a8e19109e2adf6a4",
   "outputs": [
    {
     "name": "stdout",
     "output_type": "stream",
     "text": [
      "334\n"
     ]
    }
   ],
   "execution_count": 24
  },
  {
   "metadata": {},
   "cell_type": "markdown",
   "source": [
    "<article class=\"day-desc\"><h2 id=\"part2\">--- Part Two ---</h2><p>The engineers are surprised by the low number of safe reports until they realize they forgot to tell you about the <span title=\"I need to get one of these!\">Problem Dampener</span>.</p>\n",
    "<p>The Problem Dampener is a reactor-mounted module that lets the reactor safety systems <em>tolerate a single bad level</em> in what would otherwise be a safe report. It's like the bad level never happened!</p>\n",
    "<p>Now, the same rules apply as before, except if removing a single level from an unsafe report would make it safe, the report instead counts as safe.</p>\n",
    "<p>More of the above example's reports are now safe:</p>\n",
    "<ul>\n",
    "<li><code>7 6 4 2 1</code>: <em>Safe</em> without removing any level.</li>\n",
    "<li><code>1 2 7 8 9</code>: <em>Unsafe</em> regardless of which level is removed.</li>\n",
    "<li><code>9 7 6 2 1</code>: <em>Unsafe</em> regardless of which level is removed.</li>\n",
    "<li><code>1 <em>3</em> 2 4 5</code>: <em>Safe</em> by removing the second level, <code>3</code>.</li>\n",
    "<li><code>8 6 <em>4</em> 4 1</code>: <em>Safe</em> by removing the third level, <code>4</code>.</li>\n",
    "<li><code>1 3 6 7 9</code>: <em>Safe</em> without removing any level.</li>\n",
    "</ul>\n",
    "<p>Thanks to the Problem Dampener, <code><em>4</em></code> reports are actually <em>safe</em>!</p>\n",
    "<p>Update your analysis by handling situations where the Problem Dampener can remove a single level from unsafe reports. <em>How many reports are now safe?</em></p>\n",
    "</article>"
   ],
   "id": "9d72a740454b7eb5"
  },
  {
   "metadata": {
    "ExecuteTime": {
     "end_time": "2024-12-03T03:22:31.677815Z",
     "start_time": "2024-12-03T03:22:31.668948Z"
    }
   },
   "cell_type": "code",
   "source": [
    "#define a function that removes one value from the report.\n",
    "def dampen(report, i):\n",
    "\n",
    "    return report[:i]+ report[i+1:]"
   ],
   "id": "ff70f0464b583536",
   "outputs": [],
   "execution_count": 25
  },
  {
   "metadata": {
    "ExecuteTime": {
     "end_time": "2024-12-03T03:22:32.462050Z",
     "start_time": "2024-12-03T03:22:32.435878Z"
    }
   },
   "cell_type": "code",
   "source": [
    "def part_two(data):\n",
    "\n",
    "    safe = {}\n",
    "    report_number = 1\n",
    "\n",
    "    #iterate throug reports, and while there check each dampened report to see if it is safe. If a safe dampened condition is found, mark it as such and then break out of that report and move to the next one.\n",
    "    for report in data:\n",
    "        i = 0\n",
    "\n",
    "        while i < len(report):\n",
    "\n",
    "            damped = dampen(report,i)\n",
    "\n",
    "\n",
    "            if is_safe(damped)==True:\n",
    "                safe[report_number] = 1\n",
    "                break\n",
    "            else:\n",
    "                safe[report_number] = 0\n",
    "                i += 1\n",
    "\n",
    "        report_number += 1\n",
    "\n",
    "    return sum(safe.values())\n",
    "\n",
    "print(part_two(get_data('Day2Input.txt')))\n",
    "\n",
    "\n",
    "\n",
    "\n",
    "\n"
   ],
   "id": "b2e6229c67729680",
   "outputs": [
    {
     "name": "stdout",
     "output_type": "stream",
     "text": [
      "400\n"
     ]
    }
   ],
   "execution_count": 26
  }
 ],
 "metadata": {
  "kernelspec": {
   "display_name": "Python 3",
   "language": "python",
   "name": "python3"
  },
  "language_info": {
   "codemirror_mode": {
    "name": "ipython",
    "version": 2
   },
   "file_extension": ".py",
   "mimetype": "text/x-python",
   "name": "python",
   "nbconvert_exporter": "python",
   "pygments_lexer": "ipython2",
   "version": "2.7.6"
  }
 },
 "nbformat": 4,
 "nbformat_minor": 5
}
