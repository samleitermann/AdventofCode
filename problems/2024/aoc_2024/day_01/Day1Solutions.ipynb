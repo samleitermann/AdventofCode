{
 "cells": [
  {
   "metadata": {},
   "cell_type": "markdown",
   "source": [
    "--- Day 1: Historian Hysteria ---\n",
    "\n",
    "The Chief Historian is always present for the big Christmas sleigh launch, but nobody has seen him in months! Last anyone heard, he was visiting locations that are historically significant to the North Pole; a group of Senior Historians has asked you to accompany them as they check the places they think he was most likely to visit.\n",
    "\n",
    "As each location is checked, they will mark it on their list with a star. They figure the Chief Historian must be in one of the first fifty places they'll look, so in order to save Christmas, you need to help them get fifty stars on their list before Santa takes off on December 25th.\n",
    "\n",
    "Collect stars by solving puzzles. Two puzzles will be made available on each day in the Advent calendar; the second puzzle is unlocked when you complete the first. Each puzzle grants one star. Good luck!\n",
    "\n",
    "You haven't even left yet and the group of Elvish Senior Historians has already hit a problem: their list of locations to check is currently empty. Eventually, someone decides that the best place to check first would be the Chief Historian's office.\n",
    "\n",
    "Upon pouring into the office, everyone confirms that the Chief Historian is indeed nowhere to be found. Instead, the Elves discover an assortment of notes and lists of historically significant locations! This seems to be the planning the Chief Historian was doing before he left. Perhaps these notes can be used to determine which locations to search?\n",
    "\n",
    "Throughout the Chief's office, the historically significant locations are listed not by name but by a unique number called the location ID. To make sure they don't miss anything, The Historians split into two groups, each searching the office and trying to create their own complete list of location IDs.\n",
    "\n",
    "There's just one problem: by holding the two lists up side by side (your puzzle input), it quickly becomes clear that the lists aren't very similar. Maybe you can help The Historians reconcile their lists?\n",
    "\n",
    "For example:\n",
    "\n",
    "3   4\n",
    "4   3\n",
    "2   5\n",
    "1   3\n",
    "3   9\n",
    "3   3\n",
    "\n",
    "Maybe the lists are only off by a small amount! To find out, pair up the numbers and measure how far apart they are. Pair up the smallest number in the left list with the smallest number in the right list, then the second-smallest left number with the second-smallest right number, and so on.\n",
    "\n",
    "Within each pair, figure out how far apart the two numbers are; you'll need to add up all of those distances. For example, if you pair up a 3 from the left list with a 7 from the right list, the distance apart is 4; if you pair up a 9 with a 3, the distance apart is 6.\n",
    "\n",
    "In the example list above, the pairs and distances would be as follows:\n",
    "\n",
    "    The smallest number in the left list is 1, and the smallest number in the right list is 3. The distance between them is 2.\n",
    "    The second-smallest number in the left list is 2, and the second-smallest number in the right list is another 3. The distance between them is 1.\n",
    "    The third-smallest number in both lists is 3, so the distance between them is 0.\n",
    "    The next numbers to pair up are 3 and 4, a distance of 1.\n",
    "    The fifth-smallest numbers in each list are 3 and 5, a distance of 2.\n",
    "    Finally, the largest number in the left list is 4, while the largest number in the right list is 9; these are a distance 5 apart.\n",
    "\n",
    "To find the total distance between the left list and the right list, add up the distances between all of the pairs you found. In the example above, this is 2 + 1 + 0 + 1 + 2 + 5, a total distance of 11!\n",
    "\n",
    "Your actual left and right lists contain many location IDs. What is the total distance between your lists?\n"
   ],
   "id": "48ac31b2def2b83a"
  },
  {
   "metadata": {
    "ExecuteTime": {
     "end_time": "2024-12-02T02:52:23.347234Z",
     "start_time": "2024-12-02T02:52:23.339435Z"
    }
   },
   "cell_type": "code",
   "source": [
    "def get_data(file):\n",
    "    data=[]\n",
    "\n",
    "    #open the file and strip out trailing whitespace\n",
    "\n",
    "    with open(file, 'r') as f:\n",
    "        for line in f:\n",
    "            data.append(line.rstrip())\n",
    "\n",
    "    return data"
   ],
   "id": "a70d486b7f21a60e",
   "outputs": [],
   "execution_count": 2
  },
  {
   "metadata": {
    "ExecuteTime": {
     "end_time": "2024-12-02T03:12:43.561717Z",
     "start_time": "2024-12-02T03:12:43.528239Z"
    }
   },
   "cell_type": "code",
   "source": [
    "rawdata=get_data(\"Day1Input.txt\")\n",
    "\n",
    "def solution(data):\n",
    "\n",
    "    list_one = []\n",
    "    list_two = []\n",
    "\n",
    "    distances = []\n",
    "    similarity_score = 0\n",
    "\n",
    "    #runs through the tuples and creates individual lists\n",
    "\n",
    "    for line in data:\n",
    "        temp_data = line.split(\"   \")\n",
    "        list_one.append(int(temp_data[0]))\n",
    "        list_two.append(int(temp_data[1]))\n",
    "\n",
    "    #sort the lists\n",
    "\n",
    "    list_one.sort()\n",
    "    list_two.sort()\n",
    "\n",
    "    #calculate distance between individual items and similarity scores\n",
    "\n",
    "    for i in range(len(list_one)):\n",
    "        distances.append(abs(list_one[i] - list_two[i]))\n",
    "        similarity_score += list_two.count(list_one[i]) * list_one[i]\n",
    "\n",
    "\n",
    "    return sum(distances), similarity_score\n",
    "\n",
    "print(solution(rawdata))"
   ],
   "id": "5f3ce082fcbe862e",
   "outputs": [
    {
     "name": "stdout",
     "output_type": "stream",
     "text": [
      "(1341714, 27384707)\n"
     ]
    }
   ],
   "execution_count": 6
  }
 ],
 "metadata": {
  "kernelspec": {
   "display_name": "Python 3",
   "language": "python",
   "name": "python3"
  },
  "language_info": {
   "codemirror_mode": {
    "name": "ipython",
    "version": 2
   },
   "file_extension": ".py",
   "mimetype": "text/x-python",
   "name": "python",
   "nbconvert_exporter": "python",
   "pygments_lexer": "ipython2",
   "version": "2.7.6"
  }
 },
 "nbformat": 4,
 "nbformat_minor": 5
}
