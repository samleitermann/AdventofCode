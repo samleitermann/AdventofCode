{
 "cells": [
  {
   "cell_type": "code",
   "metadata": {
    "ExecuteTime": {
     "end_time": "2024-12-03T13:56:39.612912Z",
     "start_time": "2024-12-03T13:56:39.605699Z"
    }
   },
   "source": [
    "def parse_input(file_path):\n",
    "    with open(file_path, 'r') as file:\n",
    "        input = file.read()\n",
    "        input.replace(\"/n\",\"\")\n",
    "    return input\n"
   ],
   "outputs": [],
   "execution_count": 5
  },
  {
   "cell_type": "markdown",
   "metadata": {},
   "source": "<article class=\"day-desc\"><h2>--- Day 3: Mull It Over ---</h2><p>\"Our computers are having issues, so I have no idea if we have any Chief Historians <span title=\"There's a spot reserved for Chief Historians between the green toboggans and the red toboggans. They've never actually had any Chief Historians in stock, but it's best to be prepared.\">in stock</span>! You're welcome to check the warehouse, though,\" says the mildly flustered shopkeeper at the <a href=\"/2020/day/2\">North Pole Toboggan Rental Shop</a>. The Historians head out to take a look.</p>\n<p>The shopkeeper turns to you. \"Any chance you can see why our computers are having issues again?\"</p>\n<p>The computer appears to be trying to run a program, but its memory (your puzzle input) is <em>corrupted</em>. All of the instructions have been jumbled up!</p>\n<p>It seems like the goal of the program is just to <em>multiply some numbers</em>. It does that with instructions like <code>mul(X,Y)</code>, where <code>X</code> and <code>Y</code> are each 1-3 digit numbers. For instance, <code>mul(44,46)</code> multiplies <code>44</code> by <code>46</code> to get a result of <code>2024</code>. Similarly, <code>mul(123,4)</code> would multiply <code>123</code> by <code>4</code>.</p>\n<p>However, because the program's memory has been corrupted, there are also many invalid characters that should be <em>ignored</em>, even if they look like part of a <code>mul</code> instruction. Sequences like <code>mul(4*</code>, <code>mul(6,9!</code>, <code>?(12,34)</code>, or <code>mul ( 2 , 4 )</code> do <em>nothing</em>.</p>\n<p>For example, consider the following section of corrupted memory:</p>\n<pre><code>x<em>mul(2,4)</em>%&amp;mul[3,7]!@^do_not_<em>mul(5,5)</em>+mul(32,64]then(<em>mul(11,8)mul(8,5)</em>)</code></pre>\n<p>Only the four highlighted sections are real <code>mul</code> instructions. Adding up the result of each instruction produces <code><em>161</em></code> (<code>2*4 + 5*5 + 11*8 + 8*5</code>).</p>\n<p>Scan the corrupted memory for uncorrupted <code>mul</code> instructions. <em>What do you get if you add up all of the results of the multiplications?</em></p>\n</article>"
  },
  {
   "cell_type": "code",
   "metadata": {
    "ExecuteTime": {
     "end_time": "2024-12-03T13:59:00.500589Z",
     "start_time": "2024-12-03T13:59:00.489747Z"
    }
   },
   "source": [
    "import re\n",
    "\n",
    "def solution(part1, data):\n",
    "    result = 0\n",
    "    do = True\n",
    "\n",
    "    for i, j, k in re.findall(\"(mul\\((\\d+),(\\d+)\\)|do\\(\\)|don't\\(\\))\", data):\n",
    "\n",
    "        if i == \"don't()\":\n",
    "            do = False\n",
    "        elif i == \"do()\":\n",
    "            do = True\n",
    "        else:\n",
    "            if do or part1:\n",
    "                result += int(j) * int(k)\n",
    "    return result\n",
    "\n",
    "input = parse_input('input1.txt')\n",
    "\n",
    "print(solution(True, input))\n",
    "\n",
    "print(solution(False, input))\n",
    "\n"
   ],
   "outputs": [
    {
     "name": "stdout",
     "output_type": "stream",
     "text": [
      "175015740\n",
      "112272912\n"
     ]
    }
   ],
   "execution_count": 8
  },
  {
   "cell_type": "code",
   "metadata": {
    "ExecuteTime": {
     "end_time": "2024-12-03T13:59:05.427398Z",
     "start_time": "2024-12-03T13:59:05.395751Z"
    }
   },
   "source": [
    "# Submission\n",
    "175015740"
   ],
   "outputs": [
    {
     "data": {
      "text/plain": [
       "175015740"
      ]
     },
     "execution_count": 9,
     "metadata": {},
     "output_type": "execute_result"
    }
   ],
   "execution_count": 9
  },
  {
   "cell_type": "markdown",
   "metadata": {},
   "source": "<article class=\"day-desc\"><h2 id=\"part2\">--- Part Two ---</h2><p>As you scan through the corrupted memory, you notice that some of the conditional statements are also still intact. If you handle some of the uncorrupted conditional statements in the program, you might be able to get an even more accurate result.</p>\n<p>There are two new instructions you'll need to handle:</p>\n<ul>\n<li>The <code>do()</code> instruction <em>enables</em> future <code>mul</code> instructions.</li>\n<li>The <code>don't()</code> instruction <em>disables</em> future <code>mul</code> instructions.</li>\n</ul>\n<p>Only the <em>most recent</em> <code>do()</code> or <code>don't()</code> instruction applies. At the beginning of the program, <code>mul</code> instructions are <em>enabled</em>.</p>\n<p>For example:</p>\n<pre><code>x<em>mul(2,4)</em>&amp;mul[3,7]!^<em>don't()</em>_mul(5,5)+mul(32,64](mul(11,8)un<em>do()</em>?<em>mul(8,5)</em>)</code></pre>\n<p>This corrupted memory is similar to the example from before, but this time the <code>mul(5,5)</code> and <code>mul(11,8)</code> instructions are <em>disabled</em> because there is a <code>don't()</code> instruction before them. The other <code>mul</code> instructions function normally, including the one at the end that gets re-<em>enabled</em> by a <code>do()</code> instruction.</p>\n<p>This time, the sum of the results is <code><em>48</em></code> (<code>2*4 + 8*5</code>).</p>\n<p>Handle the new instructions; <em>what do you get if you add up all of the results of just the enabled multiplications?</em></p>\n</article>"
  },
  {
   "cell_type": "code",
   "metadata": {},
   "source": [
    "def solution():\n",
    "    pass\n",
    "\n",
    "input = parse_input('input2.txt')\n",
    "solution()"
   ],
   "outputs": [],
   "execution_count": null
  },
  {
   "cell_type": "code",
   "metadata": {
    "ExecuteTime": {
     "end_time": "2024-12-03T14:01:05.822933Z",
     "start_time": "2024-12-03T14:01:05.816109Z"
    }
   },
   "source": [
    "# Submission\n",
    "112272912"
   ],
   "outputs": [
    {
     "data": {
      "text/plain": [
       "112272912"
      ]
     },
     "execution_count": 13,
     "metadata": {},
     "output_type": "execute_result"
    }
   ],
   "execution_count": 13
  }
 ],
 "metadata": {
  "kernelspec": {
   "display_name": "Python 3",
   "language": "python",
   "name": "python3"
  }
 },
 "nbformat": 4,
 "nbformat_minor": 4
}
